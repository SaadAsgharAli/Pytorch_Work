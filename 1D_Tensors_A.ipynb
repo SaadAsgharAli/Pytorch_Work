{
 "cells": [
  {
   "cell_type": "code",
   "execution_count": null,
   "metadata": {},
   "outputs": [],
   "source": [
    "# Bismilla hir rehman nir raheem"
   ]
  },
  {
   "cell_type": "markdown",
   "metadata": {},
   "source": [
    "## 1.1 **Dtensors**"
   ]
  },
  {
   "cell_type": "code",
   "execution_count": null,
   "metadata": {},
   "outputs": [],
   "source": [
    "# Tensors are essential part of Pytorch"
   ]
  },
  {
   "cell_type": "code",
   "execution_count": 2,
   "metadata": {},
   "outputs": [],
   "source": [
    "import torch\n",
    "import numpy as np\n",
    "import pandas as pd\n",
    "import matplotlib.pyplot as plt\n",
    "%matplotlib inline"
   ]
  },
  {
   "cell_type": "code",
   "execution_count": 3,
   "metadata": {},
   "outputs": [],
   "source": [
    "# Plotting Vectors"
   ]
  },
  {
   "cell_type": "code",
   "execution_count": 4,
   "metadata": {},
   "outputs": [],
   "source": [
    "def plotVec(vectors):\n",
    "    ax = plt.axes()\n",
    "    \n",
    "    # For loop to draw the vectors\n",
    "    for vec in vectors:\n",
    "        ax.arrow(0, 0, *vec[\"vector\"], head_width = 0.05,color = vec[\"color\"], head_length = 0.1)\n",
    "        plt.text(*(vec[\"vector\"] + 0.1), vec[\"name\"])\n",
    "    \n",
    "    plt.ylim(-2,2)\n",
    "    plt.xlim(-2,2)"
   ]
  },
  {
   "cell_type": "code",
   "execution_count": null,
   "metadata": {},
   "outputs": [],
   "source": [
    "# Making tensor out of a list"
   ]
  },
  {
   "cell_type": "code",
   "execution_count": 15,
   "metadata": {},
   "outputs": [
    {
     "name": "stdout",
     "output_type": "stream",
     "text": [
      "torch.int64\n"
     ]
    },
    {
     "data": {
      "text/plain": [
       "'torch.LongTensor'"
      ]
     },
     "execution_count": 15,
     "metadata": {},
     "output_type": "execute_result"
    }
   ],
   "source": [
    "tensorA = torch.tensor([1,2,3,4,5])\n",
    "print(tensorA.dtype)\n",
    "tensorA.type()\n",
    "# type(tensorA)      # Use the above command instead of this to check type"
   ]
  },
  {
   "cell_type": "code",
   "execution_count": 22,
   "metadata": {},
   "outputs": [
    {
     "name": "stdout",
     "output_type": "stream",
     "text": [
      "torch.float32\n"
     ]
    },
    {
     "data": {
      "text/plain": [
       "'torch.FloatTensor'"
      ]
     },
     "execution_count": 22,
     "metadata": {},
     "output_type": "execute_result"
    }
   ],
   "source": [
    "tensorB = torch.Tensor([1.0,2,3,4.0,5])\n",
    "print(tensorB.dtype)\n",
    "tensorB.type()"
   ]
  },
  {
   "cell_type": "code",
   "execution_count": 21,
   "metadata": {},
   "outputs": [
    {
     "name": "stdout",
     "output_type": "stream",
     "text": [
      "tensor([1, 2, 3, 4, 5])\n"
     ]
    }
   ],
   "source": [
    "print(tensorA)"
   ]
  },
  {
   "cell_type": "code",
   "execution_count": 4,
   "metadata": {},
   "outputs": [
    {
     "name": "stdout",
     "output_type": "stream",
     "text": [
      "torch.FloatTensor\n",
      "tensor([0., 1., 2., 3., 4.])\n",
      "Method 2:\n"
     ]
    },
    {
     "data": {
      "text/plain": [
       "'torch.FloatTensor'"
      ]
     },
     "execution_count": 4,
     "metadata": {},
     "output_type": "execute_result"
    }
   ],
   "source": [
    "# Converting Integer list to Float tensor\n",
    "\n",
    "# Method 1:\n",
    "tensorC = torch.FloatTensor([0,1,2,3,4])\n",
    "tensorC.dtype\n",
    "print(tensorC.type())\n",
    "print(tensorC)\n",
    "\n",
    "# Method 2:\n",
    "print('Method 2:')\n",
    "tensorD = torch.tensor([0,1,2,3,4,5])\n",
    "tensorE = tensorD.type(torch.FloatTensor)\n",
    "tensorE.type()\n",
    "#print(tensorE)"
   ]
  },
  {
   "cell_type": "code",
   "execution_count": 50,
   "metadata": {},
   "outputs": [
    {
     "name": "stdout",
     "output_type": "stream",
     "text": [
      "torch.Size([6])\n"
     ]
    },
    {
     "data": {
      "text/plain": [
       "1"
      ]
     },
     "execution_count": 50,
     "metadata": {},
     "output_type": "execute_result"
    }
   ],
   "source": [
    "# Checking size and dimension of the tensor:\n",
    "#    .size()\n",
    "#    .ndimension()\n",
    "print(tensorE.size())\n",
    "tensorE.ndimension()"
   ]
  },
  {
   "cell_type": "code",
   "execution_count": 51,
   "metadata": {},
   "outputs": [],
   "source": [
    "# Zindagi me ksi cheez se ghabrana nhe, ye HATIM ka qoul hai."
   ]
  },
  {
   "cell_type": "code",
   "execution_count": 52,
   "metadata": {},
   "outputs": [],
   "source": [
    "# New schedule from tomorrow"
   ]
  },
  {
   "cell_type": "code",
   "execution_count": 6,
   "metadata": {},
   "outputs": [
    {
     "name": "stdout",
     "output_type": "stream",
     "text": [
      "tensor([0., 1., 2., 3., 4., 5.])\n",
      "tensor([[0.],\n",
      "        [1.],\n",
      "        [2.],\n",
      "        [3.],\n",
      "        [4.],\n",
      "        [5.]])\n",
      "torch.Size([6, 1])\n",
      "2\n"
     ]
    }
   ],
   "source": [
    "# Reshaping a tensor:\n",
    "#           .view(row, column)\n",
    "tensorE_2d = tensorE.view(6,1)\n",
    "print(tensorE)\n",
    "print(tensorE_2d)\n",
    "# Here the size is changed from 6 to 6X1.\n",
    "# And the dimension changed from 1d to 2d\n",
    "print(tensorE_2d.size())\n",
    "print(tensorE_2d.ndimension())"
   ]
  },
  {
   "cell_type": "code",
   "execution_count": 10,
   "metadata": {},
   "outputs": [
    {
     "name": "stdout",
     "output_type": "stream",
     "text": [
      "tensor([0., 1., 2., 3., 4., 5.])\n",
      "tensor([[0.],\n",
      "        [1.],\n",
      "        [2.],\n",
      "        [3.],\n",
      "        [4.],\n",
      "        [5.]])\n",
      "torch.Size([6, 1])\n",
      "2\n"
     ]
    }
   ],
   "source": [
    "# Reshaping a tensor of dynamic size\n",
    "# Use view with -1 as one argument.\n",
    "tensorE_2d = tensorE.view(-1,1)\n",
    "print(tensorE)\n",
    "print(tensorE_2d)\n",
    "print(tensorE_2d.size())\n",
    "print(tensorE_2d.ndimension())"
   ]
  },
  {
   "cell_type": "code",
   "execution_count": 3,
   "metadata": {},
   "outputs": [
    {
     "name": "stdout",
     "output_type": "stream",
     "text": [
      "tensor([1., 2., 3., 4.], dtype=torch.float64)\n",
      "torch.DoubleTensor\n",
      "torch.float64\n",
      "tensor([1., 2., 3., 4.])\n",
      "torch.FloatTensor\n",
      "torch.float32\n"
     ]
    }
   ],
   "source": [
    "# Converting **numpy array** to tensor\n",
    "# Use torch.from_numpy(numpy_array)\n",
    "\n",
    "n1 = np.array([1.0,2.0,3.0,4])\n",
    "tensor_z1 = torch.from_numpy(n1)\n",
    "print(tensor_z1)\n",
    "print(tensor_z1.type())\n",
    "print(tensor_z1.dtype)\n",
    "\n",
    "# Just my wish:\n",
    "tensor_z2 = torch.FloatTensor(n1)\n",
    "print(tensor_z2)\n",
    "print(tensor_z2.type())\n",
    "print(tensor_z2.dtype)"
   ]
  },
  {
   "cell_type": "code",
   "execution_count": 26,
   "metadata": {},
   "outputs": [
    {
     "name": "stdout",
     "output_type": "stream",
     "text": [
      "[1. 2. 3. 4.] \n",
      " [1. 2. 3. 4.]\n",
      "float64\n",
      "float32\n"
     ]
    }
   ],
   "source": [
    "# Converting tensor to numpy\n",
    "#             .numpy()\n",
    "\n",
    "n2 = tensor_z1.numpy()\n",
    "n3 = tensor_z2.numpy()\n",
    "print(n2,'\\n',n3)\n",
    "print(n2.dtype)\n",
    "print(n3.dtype)"
   ]
  },
  {
   "cell_type": "code",
   "execution_count": 30,
   "metadata": {},
   "outputs": [
    {
     "name": "stdout",
     "output_type": "stream",
     "text": [
      "[0. 0. 0. 0.]\n",
      "tensor([0., 0., 0., 0.], dtype=torch.float64)\n",
      "[0. 0. 0. 0.]\n",
      "tensor([1., 2., 3., 4.])\n",
      "[1. 2. 3. 4.]\n"
     ]
    }
   ],
   "source": [
    "# The problem is that n2 points to tensor_z1, and tensor_z1 points back to n1.\n",
    "# eg:\n",
    "n1[:] = 0\n",
    "print(n1)\n",
    "print(tensor_z1)\n",
    "print(n2)\n",
    "# Pointing doesn't takes place if tensor is made from numpy array using torch.FloatTensor(n1) or torch.LongTensor(n1) or Double.\n",
    "print(tensor_z2)\n",
    "print(n3)"
   ]
  },
  {
   "cell_type": "code",
   "execution_count": 36,
   "metadata": {},
   "outputs": [
    {
     "name": "stdout",
     "output_type": "stream",
     "text": [
      "torch.int64\n",
      "torch.LongTensor\n",
      "tensor([0, 1, 2, 3, 4])\n"
     ]
    }
   ],
   "source": [
    "# Just for my wish:\n",
    "tensorC = torch.LongTensor([0,1.0,2,3.0,4])\n",
    "print(tensorC.dtype)\n",
    "print(tensorC.type())\n",
    "print(tensorC)"
   ]
  },
  {
   "cell_type": "code",
   "execution_count": 6,
   "metadata": {},
   "outputs": [
    {
     "data": {
      "text/plain": [
       "1     0.1\n",
       "2     2.0\n",
       "3     0.3\n",
       "4    10.1\n",
       "dtype: float64"
      ]
     },
     "execution_count": 6,
     "metadata": {},
     "output_type": "execute_result"
    }
   ],
   "source": [
    "# Converting pandas series to tensor\n",
    "pandas_series=pd.Series([0.1, 2, 0.3, 10.1], index = [1,2,3,4])\n"
   ]
  },
  {
   "cell_type": "code",
   "execution_count": null,
   "metadata": {},
   "outputs": [],
   "source": []
  }
 ],
 "metadata": {
  "kernelspec": {
   "display_name": "Python",
   "language": "python",
   "name": "conda-env-python-py"
  },
  "language_info": {
   "codemirror_mode": {
    "name": "ipython",
    "version": 3
   },
   "file_extension": ".py",
   "mimetype": "text/x-python",
   "name": "python",
   "nbconvert_exporter": "python",
   "pygments_lexer": "ipython3",
   "version": "3.6.7"
  }
 },
 "nbformat": 4,
 "nbformat_minor": 4
}
